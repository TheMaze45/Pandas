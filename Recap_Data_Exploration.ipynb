{
  "nbformat": 4,
  "nbformat_minor": 0,
  "metadata": {
    "colab": {
      "provenance": [],
      "authorship_tag": "ABX9TyPKGgQoOYrXgtA/esUKkQhp",
      "include_colab_link": true
    },
    "kernelspec": {
      "name": "python3",
      "display_name": "Python 3"
    },
    "language_info": {
      "name": "python"
    }
  },
  "cells": [
    {
      "cell_type": "markdown",
      "metadata": {
        "id": "view-in-github",
        "colab_type": "text"
      },
      "source": [
        "<a href=\"https://colab.research.google.com/github/TheMaze45/Pandas/blob/main/Recap_Data_Exploration.ipynb\" target=\"_parent\"><img src=\"https://colab.research.google.com/assets/colab-badge.svg\" alt=\"Open In Colab\"/></a>"
      ]
    },
    {
      "cell_type": "markdown",
      "source": [
        "# Recap on Pandas DataFrames\n",
        "\n",
        "DataFrames in Pandas are mutable two-dimensional structures of data with labeled axes where:\n",
        "\n",
        "\n",
        "\n",
        "*   each row represents a different observation\n",
        "*   each column represents a different variable\n",
        "\n",
        "\n",
        "\n",
        "Before we can create a DataFrame, we have to import the Pandas module into \n",
        "our coding enviroment."
      ],
      "metadata": {
        "id": "xu7mBWS1NKaw"
      }
    },
    {
      "cell_type": "code",
      "execution_count": 2,
      "metadata": {
        "id": "69RX8vy9NI41"
      },
      "outputs": [],
      "source": [
        "# We can do that with\n",
        "import pandas as pd # you can name pandas anything you want, but importing pandas as pd is the standard !"
      ]
    },
    {
      "cell_type": "markdown",
      "source": [
        "# 1. Import a CSV-file (comma seperated values) into the DataFrame\n",
        "\n",
        "\n",
        "When working with data, most of time you don't create it by yourself, your main job as a Data-Analyst/Scientist is to get data and work with it.\n",
        "\n",
        "We call this process the importing(or \"reading\") of data, sometimes from a CSV-file or from a Database.\n",
        "\n",
        "With Pandas it is easy to import data and convert it into a DataFrame.\n",
        "\n",
        "Here we take for example a CSV-file that we worked with before.\n",
        "\n",
        "##Important:\n",
        "\n",
        "When importing a file from your Google Drive, make sure that the access permission for the file is set to \"anyone with the link can read/view the file\",otherwise you will have trouble importing the data."
      ],
      "metadata": {
        "id": "lVKNIpR2OR8u"
      }
    },
    {
      "cell_type": "code",
      "source": [
        "# url is just the link path to your file\n",
        "url = \"https://drive.google.com/file/d/1FYhN_2AzTBFuWcfHaRuKcuCE6CWXsWtG/view?usp=sharing\" # orderlines.csv\n",
        "path = \"https://drive.google.com/uc?export=download&id=\"+url.split(\"/\")[-2]\n",
        "# This here creates the dataframe\n",
        "df = pd.read_csv(path)\n",
        "\n",
        "# Take a quick glance at the dataframe to see if the import worked.\n",
        "# Don't forget to run the import pandas as pd first !\n",
        "df.head()"
      ],
      "metadata": {
        "colab": {
          "base_uri": "https://localhost:8080/",
          "height": 206
        },
        "id": "SF3IFTlLQSz6",
        "outputId": "656dc19c-2c98-48ee-e0c8-71027fdbce60"
      },
      "execution_count": 3,
      "outputs": [
        {
          "output_type": "execute_result",
          "data": {
            "text/plain": [
              "        id  id_order  product_id  product_quantity      sku unit_price  \\\n",
              "0  1119109    299539           0                 1  OTT0133      18.99   \n",
              "1  1119110    299540           0                 1  LGE0043     399.00   \n",
              "2  1119111    299541           0                 1  PAR0071     474.05   \n",
              "3  1119112    299542           0                 1  WDT0315      68.39   \n",
              "4  1119113    299543           0                 1  JBL0104      23.74   \n",
              "\n",
              "                  date  \n",
              "0  2017-01-01 00:07:19  \n",
              "1  2017-01-01 00:19:45  \n",
              "2  2017-01-01 00:20:57  \n",
              "3  2017-01-01 00:51:40  \n",
              "4  2017-01-01 01:06:38  "
            ],
            "text/html": [
              "\n",
              "  <div id=\"df-657c7152-a6fd-4c83-9d89-0b4aef8df62d\">\n",
              "    <div class=\"colab-df-container\">\n",
              "      <div>\n",
              "<style scoped>\n",
              "    .dataframe tbody tr th:only-of-type {\n",
              "        vertical-align: middle;\n",
              "    }\n",
              "\n",
              "    .dataframe tbody tr th {\n",
              "        vertical-align: top;\n",
              "    }\n",
              "\n",
              "    .dataframe thead th {\n",
              "        text-align: right;\n",
              "    }\n",
              "</style>\n",
              "<table border=\"1\" class=\"dataframe\">\n",
              "  <thead>\n",
              "    <tr style=\"text-align: right;\">\n",
              "      <th></th>\n",
              "      <th>id</th>\n",
              "      <th>id_order</th>\n",
              "      <th>product_id</th>\n",
              "      <th>product_quantity</th>\n",
              "      <th>sku</th>\n",
              "      <th>unit_price</th>\n",
              "      <th>date</th>\n",
              "    </tr>\n",
              "  </thead>\n",
              "  <tbody>\n",
              "    <tr>\n",
              "      <th>0</th>\n",
              "      <td>1119109</td>\n",
              "      <td>299539</td>\n",
              "      <td>0</td>\n",
              "      <td>1</td>\n",
              "      <td>OTT0133</td>\n",
              "      <td>18.99</td>\n",
              "      <td>2017-01-01 00:07:19</td>\n",
              "    </tr>\n",
              "    <tr>\n",
              "      <th>1</th>\n",
              "      <td>1119110</td>\n",
              "      <td>299540</td>\n",
              "      <td>0</td>\n",
              "      <td>1</td>\n",
              "      <td>LGE0043</td>\n",
              "      <td>399.00</td>\n",
              "      <td>2017-01-01 00:19:45</td>\n",
              "    </tr>\n",
              "    <tr>\n",
              "      <th>2</th>\n",
              "      <td>1119111</td>\n",
              "      <td>299541</td>\n",
              "      <td>0</td>\n",
              "      <td>1</td>\n",
              "      <td>PAR0071</td>\n",
              "      <td>474.05</td>\n",
              "      <td>2017-01-01 00:20:57</td>\n",
              "    </tr>\n",
              "    <tr>\n",
              "      <th>3</th>\n",
              "      <td>1119112</td>\n",
              "      <td>299542</td>\n",
              "      <td>0</td>\n",
              "      <td>1</td>\n",
              "      <td>WDT0315</td>\n",
              "      <td>68.39</td>\n",
              "      <td>2017-01-01 00:51:40</td>\n",
              "    </tr>\n",
              "    <tr>\n",
              "      <th>4</th>\n",
              "      <td>1119113</td>\n",
              "      <td>299543</td>\n",
              "      <td>0</td>\n",
              "      <td>1</td>\n",
              "      <td>JBL0104</td>\n",
              "      <td>23.74</td>\n",
              "      <td>2017-01-01 01:06:38</td>\n",
              "    </tr>\n",
              "  </tbody>\n",
              "</table>\n",
              "</div>\n",
              "      <button class=\"colab-df-convert\" onclick=\"convertToInteractive('df-657c7152-a6fd-4c83-9d89-0b4aef8df62d')\"\n",
              "              title=\"Convert this dataframe to an interactive table.\"\n",
              "              style=\"display:none;\">\n",
              "        \n",
              "  <svg xmlns=\"http://www.w3.org/2000/svg\" height=\"24px\"viewBox=\"0 0 24 24\"\n",
              "       width=\"24px\">\n",
              "    <path d=\"M0 0h24v24H0V0z\" fill=\"none\"/>\n",
              "    <path d=\"M18.56 5.44l.94 2.06.94-2.06 2.06-.94-2.06-.94-.94-2.06-.94 2.06-2.06.94zm-11 1L8.5 8.5l.94-2.06 2.06-.94-2.06-.94L8.5 2.5l-.94 2.06-2.06.94zm10 10l.94 2.06.94-2.06 2.06-.94-2.06-.94-.94-2.06-.94 2.06-2.06.94z\"/><path d=\"M17.41 7.96l-1.37-1.37c-.4-.4-.92-.59-1.43-.59-.52 0-1.04.2-1.43.59L10.3 9.45l-7.72 7.72c-.78.78-.78 2.05 0 2.83L4 21.41c.39.39.9.59 1.41.59.51 0 1.02-.2 1.41-.59l7.78-7.78 2.81-2.81c.8-.78.8-2.07 0-2.86zM5.41 20L4 18.59l7.72-7.72 1.47 1.35L5.41 20z\"/>\n",
              "  </svg>\n",
              "      </button>\n",
              "      \n",
              "  <style>\n",
              "    .colab-df-container {\n",
              "      display:flex;\n",
              "      flex-wrap:wrap;\n",
              "      gap: 12px;\n",
              "    }\n",
              "\n",
              "    .colab-df-convert {\n",
              "      background-color: #E8F0FE;\n",
              "      border: none;\n",
              "      border-radius: 50%;\n",
              "      cursor: pointer;\n",
              "      display: none;\n",
              "      fill: #1967D2;\n",
              "      height: 32px;\n",
              "      padding: 0 0 0 0;\n",
              "      width: 32px;\n",
              "    }\n",
              "\n",
              "    .colab-df-convert:hover {\n",
              "      background-color: #E2EBFA;\n",
              "      box-shadow: 0px 1px 2px rgba(60, 64, 67, 0.3), 0px 1px 3px 1px rgba(60, 64, 67, 0.15);\n",
              "      fill: #174EA6;\n",
              "    }\n",
              "\n",
              "    [theme=dark] .colab-df-convert {\n",
              "      background-color: #3B4455;\n",
              "      fill: #D2E3FC;\n",
              "    }\n",
              "\n",
              "    [theme=dark] .colab-df-convert:hover {\n",
              "      background-color: #434B5C;\n",
              "      box-shadow: 0px 1px 3px 1px rgba(0, 0, 0, 0.15);\n",
              "      filter: drop-shadow(0px 1px 2px rgba(0, 0, 0, 0.3));\n",
              "      fill: #FFFFFF;\n",
              "    }\n",
              "  </style>\n",
              "\n",
              "      <script>\n",
              "        const buttonEl =\n",
              "          document.querySelector('#df-657c7152-a6fd-4c83-9d89-0b4aef8df62d button.colab-df-convert');\n",
              "        buttonEl.style.display =\n",
              "          google.colab.kernel.accessAllowed ? 'block' : 'none';\n",
              "\n",
              "        async function convertToInteractive(key) {\n",
              "          const element = document.querySelector('#df-657c7152-a6fd-4c83-9d89-0b4aef8df62d');\n",
              "          const dataTable =\n",
              "            await google.colab.kernel.invokeFunction('convertToInteractive',\n",
              "                                                     [key], {});\n",
              "          if (!dataTable) return;\n",
              "\n",
              "          const docLinkHtml = 'Like what you see? Visit the ' +\n",
              "            '<a target=\"_blank\" href=https://colab.research.google.com/notebooks/data_table.ipynb>data table notebook</a>'\n",
              "            + ' to learn more about interactive tables.';\n",
              "          element.innerHTML = '';\n",
              "          dataTable['output_type'] = 'display_data';\n",
              "          await google.colab.output.renderOutput(dataTable, element);\n",
              "          const docLink = document.createElement('div');\n",
              "          docLink.innerHTML = docLinkHtml;\n",
              "          element.appendChild(docLink);\n",
              "        }\n",
              "      </script>\n",
              "    </div>\n",
              "  </div>\n",
              "  "
            ]
          },
          "metadata": {},
          "execution_count": 3
        }
      ]
    },
    {
      "cell_type": "markdown",
      "source": [
        "As we can the, the table looks good, we have valid data for every column and row."
      ],
      "metadata": {
        "id": "IG45v4EIRqEr"
      }
    },
    {
      "cell_type": "markdown",
      "source": [
        "#2. DataFrame dimensions\n",
        "\n",
        "If you don't want or can't count the number of rows and columns by hand on your DataFrame, don't worry, there is a nice little helper\n",
        "\n",
        "\n",
        "\n",
        "```\n",
        "df.shape\n",
        "```\n",
        "With this attribute we can a quick overview of the size of our table.\n"
      ],
      "metadata": {
        "id": "MmBjnOihRz-E"
      }
    },
    {
      "cell_type": "code",
      "source": [
        "df.shape"
      ],
      "metadata": {
        "colab": {
          "base_uri": "https://localhost:8080/"
        },
        "id": "6W2wBz6pTh-p",
        "outputId": "be6cf831-2c4a-4bd8-8dfa-04b8b1870e57"
      },
      "execution_count": 4,
      "outputs": [
        {
          "output_type": "execute_result",
          "data": {
            "text/plain": [
              "(293983, 7)"
            ]
          },
          "metadata": {},
          "execution_count": 4
        }
      ]
    },
    {
      "cell_type": "markdown",
      "source": [
        "It returns a [tuple](https://www.w3schools.com/python/python_tuples.asp) (data type with multiple items stored in a single var).\n",
        "\n",
        "The first element of our tuple is the number of rows in our DataFrame, which is 293983 rows, the second element is the amount of columns, for our example it is 7."
      ],
      "metadata": {
        "id": "bpR_BujKTkza"
      }
    },
    {
      "cell_type": "markdown",
      "source": [
        "If we want to present this kind of information in a nice way, we could extract the values and put the information into a print statement."
      ],
      "metadata": {
        "id": "Domq_gIlU7Q0"
      }
    },
    {
      "cell_type": "code",
      "source": [
        "nrows = df.shape[0]\n",
        "ncols = df.shape[1]\n",
        "print(f'The number of rows in our dataframe is{nrows} and we have a total number of {ncols} columns.')"
      ],
      "metadata": {
        "colab": {
          "base_uri": "https://localhost:8080/"
        },
        "id": "-BYLSzLsVaIJ",
        "outputId": "c54004a8-23ed-4299-c891-13d24193258f"
      },
      "execution_count": 5,
      "outputs": [
        {
          "output_type": "stream",
          "name": "stdout",
          "text": [
            "The number of rows in our dataframe is293983 and we have a total number of 7 columns.\n"
          ]
        }
      ]
    },
    {
      "cell_type": "markdown",
      "source": [
        "The [DataFrame.size](https://pandas.pydata.org/docs/reference/api/pandas.DataFrame.size.html) returns the total number of values that a DataFrame has.\n",
        "\n",
        "In our case it would be the number of rows (293983) * by the number of columns (7). So a total of 2057881 values."
      ],
      "metadata": {
        "id": "0Q3rNPVFVzl1"
      }
    },
    {
      "cell_type": "code",
      "source": [
        "df.size"
      ],
      "metadata": {
        "colab": {
          "base_uri": "https://localhost:8080/"
        },
        "id": "b-BsQbs2WQfV",
        "outputId": "0b5e7fe2-e25a-47df-8ab8-6e18ac64b4d0"
      },
      "execution_count": 6,
      "outputs": [
        {
          "output_type": "execute_result",
          "data": {
            "text/plain": [
              "2057881"
            ]
          },
          "metadata": {},
          "execution_count": 6
        }
      ]
    },
    {
      "cell_type": "markdown",
      "source": [
        "We can verify this with a boolean statement.\n",
        "\n",
        "\n",
        "```\n",
        "df.shape[0] * df.shape[1] == df.size\n",
        "```\n",
        "If the numbers match, it should return True.\n"
      ],
      "metadata": {
        "id": "v-NwocmKWWpA"
      }
    },
    {
      "cell_type": "code",
      "source": [
        "df.shape[0] * df.shape[1] == df.size"
      ],
      "metadata": {
        "colab": {
          "base_uri": "https://localhost:8080/"
        },
        "id": "ILIEwXabWoTC",
        "outputId": "05121fd7-1a1e-43b7-f95c-a3b116c04aee"
      },
      "execution_count": 7,
      "outputs": [
        {
          "output_type": "execute_result",
          "data": {
            "text/plain": [
              "True"
            ]
          },
          "metadata": {},
          "execution_count": 7
        }
      ]
    },
    {
      "cell_type": "markdown",
      "source": [],
      "metadata": {
        "id": "4HE9v3hbW5tJ"
      }
    }
  ]
}