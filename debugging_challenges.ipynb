{
  "nbformat": 4,
  "nbformat_minor": 0,
  "metadata": {
    "colab": {
      "provenance": [],
      "include_colab_link": true
    },
    "kernelspec": {
      "name": "python3",
      "display_name": "Python 3"
    },
    "language_info": {
      "name": "python"
    }
  },
  "cells": [
    {
      "cell_type": "markdown",
      "metadata": {
        "id": "view-in-github",
        "colab_type": "text"
      },
      "source": [
        "<a href=\"https://colab.research.google.com/github/TheMaze45/Pandas/blob/main/debugging_challenges.ipynb\" target=\"_parent\"><img src=\"https://colab.research.google.com/assets/colab-badge.svg\" alt=\"Open In Colab\"/></a>"
      ]
    },
    {
      "cell_type": "markdown",
      "source": [
        "# Debugging Python code\n",
        "\n",
        "Go through the exercises below. \n",
        "\n",
        "- Each exercise contains some code with **one or more mistakes**. \n",
        "- The mistakes can either prompt an error or not.\n",
        "- There might be multiple ways to fix the mistakes.\n",
        "- Improving the code readability is also encouraged."
      ],
      "metadata": {
        "id": "eGqyDOiK4nv5"
      }
    },
    {
      "cell_type": "code",
      "source": [
        "# data creation\n",
        "beatles = [\"John Lennon\", \"Paul McCartney\", \"George Harrison\", \"Ringo Starr\"]\n",
        "\n",
        "numbers = [1, 2, 3, 4, 5]\n",
        "\n",
        "capitals = {\"Germany\": \"Berlin\", \n",
        "            \"Russia\": \"Moscow\",\n",
        "            \"France\": \"Paris\",\n",
        "            \"China\": \"Beijing\",\n",
        "            \"Egypt\": \"Cairo\",\n",
        "            \"Brazil\": \"Brasilia\" # capital of Brazil is not Sao Paulo, == Brasilia\n",
        "            }\n",
        "\n",
        "top_profitable_films = {\n",
        "    \"Film\": [\"Avengers: Endgame\", \"Avatar\", \"Titanic\", \"Star Wars: The Force Awakens\", \"Jurassic World\",\n",
        "             \"The Lion King\", \"The Avengers\", \"Frozen II\", \"Frozen\", \"Beauty and the Beast\"],\n",
        "    \"Year\": [\"2019\", \"2007\", \"1997\", \"2015\", \"2015\", \"2019\", \"2012\", \"2019\", \"2013\", \"2017\"],\n",
        "    \"Worldwide Gross (in billions)\": [\"2.798\", \"2.789\", \"2.194\", \"2.073\", \"1.673\", \"1.656\", \"1.519\", \n",
        "                                      \"1.450\", \"1.276\", \"1.263\"]\n",
        "    }"
      ],
      "metadata": {
        "id": "7teQ1W7aJKqR"
      },
      "execution_count": 2,
      "outputs": []
    },
    {
      "cell_type": "markdown",
      "source": [
        "## Exercise 1:"
      ],
      "metadata": {
        "id": "BaJkDo5mMZX2"
      }
    },
    {
      "cell_type": "code",
      "source": [
        "# first mistake is a spelling mistake in the for loop Capitals with a capital C is not defined, needs to be lower case\n",
        "\n",
        "for c in Capitals.keys():\n",
        "  print(f\"{c} is the capital of {Capitals[c]}.\")"
      ],
      "metadata": {
        "id": "05L7VqDMKfx2"
      },
      "execution_count": null,
      "outputs": []
    },
    {
      "cell_type": "code",
      "source": [
        "#spelling fixed\n",
        "# Now the loop works, but the sentence is not fully correct yet, it needs to be \"[city] is the capital of [country].\"\n",
        "for c in capitals.keys():\n",
        "  print(f\"{c} is the capital of {capitals[c]}.\")"
      ],
      "metadata": {
        "id": "UD0dN5sZwdNk",
        "outputId": "0cc27ce0-49a2-4e77-c6f7-a59d788bf070",
        "colab": {
          "base_uri": "https://localhost:8080/"
        }
      },
      "execution_count": null,
      "outputs": [
        {
          "output_type": "stream",
          "name": "stdout",
          "text": [
            "Germany is the capital of Berlin.\n",
            "Russia is the capital of Moscow.\n",
            "France is the capital of Paris.\n",
            "China is the capital of Beijing.\n",
            "Egypt is the capital of Cairo.\n",
            "Brazil is the capital of Brazil.\n"
          ]
        }
      ]
    },
    {
      "cell_type": "code",
      "source": [
        "# changed the order, also made the loop more readable by giving it other variable names\n",
        "for country in capitals:\n",
        "  print(f\"{capitals[country]} is the capital of {country}.\")"
      ],
      "metadata": {
        "id": "6pVyeB8poUGk",
        "outputId": "e24805a2-1f21-446b-899c-fd34ef733c5f",
        "colab": {
          "base_uri": "https://localhost:8080/"
        }
      },
      "execution_count": 3,
      "outputs": [
        {
          "output_type": "stream",
          "name": "stdout",
          "text": [
            "Berlin is the capital of Germany.\n",
            "Moscow is the capital of Russia.\n",
            "Paris is the capital of France.\n",
            "Beijing is the capital of China.\n",
            "Cairo is the capital of Egypt.\n",
            "Brasilia is the capital of Brazil.\n"
          ]
        }
      ]
    },
    {
      "cell_type": "markdown",
      "source": [
        "## Exercise 2:\n",
        "Let's imagine we want to show our love for Ringo Starr and print a love statement for him as many times as numbers are in the `numbers` list. For all Beatles who are not Ringo, we want to print as many times a hate statement. The output should look like this:\n",
        "\n",
        "```\n",
        "I hate John Lennon!\n",
        "I hate Paul McCartney!\n",
        "I hate George Harrison!\n",
        "I love Ringo Starr!\n",
        "\n",
        "\n",
        "I hate John Lennon!\n",
        "I hate Paul McCartney!\n",
        "I hate George Harrison!\n",
        "I love Ringo Starr!\n",
        "\n",
        "\n",
        "I hate John Lennon!\n",
        "I hate Paul McCartney!\n",
        "I hate George Harrison!\n",
        "I love Ringo Starr!\n",
        "\n",
        "\n",
        "I hate John Lennon!\n",
        "I hate Paul McCartney!\n",
        "I hate George Harrison!\n",
        "I love Ringo Starr!\n",
        "\n",
        "\n",
        "I hate John Lennon!\n",
        "I hate Paul McCartney!\n",
        "I hate George Harrison!\n",
        "I love Ringo Starr!\n",
        "```\n",
        "\n"
      ],
      "metadata": {
        "id": "Ktqf8UlUT7Wo"
      }
    },
    {
      "cell_type": "code",
      "source": [
        "# first mistake which is in plain sight is on line 3, one = means we assign something to a variable, if we want to compare something, we use two ==\n",
        "for beatle in beatles:\n",
        "  if beatle = \"Ringo Starr\":\n",
        "    for n in numbers:\n",
        "      print(f\"I love {beatle}!\")\n",
        "  if beatle != \"Ringo Starr\":\n",
        "    print(f\"I hate {beatle}!\")\n",
        "      print(\"\\n\")"
      ],
      "metadata": {
        "id": "cb212PumTUM-"
      },
      "execution_count": null,
      "outputs": []
    },
    {
      "cell_type": "code",
      "source": [
        "# Next up is the order of our loops, the first loop should be the n in numbers\n",
        "for beatle in beatles:\n",
        "  if beatle == \"Ringo Starr\":\n",
        "    for n in numbers:\n",
        "      print(f\"I love {beatle}!\")\n",
        "  if beatle != \"Ringo Starr\":\n",
        "    print(f\"I hate {beatle}!\")\n",
        "    print(\"\\n\")"
      ],
      "metadata": {
        "id": "J69Sx-XfoafE",
        "colab": {
          "base_uri": "https://localhost:8080/"
        },
        "outputId": "59df5d66-0700-47fb-86f0-a889a7b37b9b"
      },
      "execution_count": 5,
      "outputs": [
        {
          "output_type": "stream",
          "name": "stdout",
          "text": [
            "I hate John Lennon!\n",
            "\n",
            "\n",
            "I hate Paul McCartney!\n",
            "\n",
            "\n",
            "I hate George Harrison!\n",
            "\n",
            "\n",
            "I love Ringo Starr!\n",
            "I love Ringo Starr!\n",
            "I love Ringo Starr!\n",
            "I love Ringo Starr!\n",
            "I love Ringo Starr!\n"
          ]
        }
      ]
    },
    {
      "cell_type": "code",
      "source": [
        "# Now the looping works correct, but there is still a problem with the paragraphs, they are all over the place,\n",
        "# there should only be one paragraph after each loop\n",
        "for n in numbers:\n",
        "  for beatle in beatles:\n",
        "    if beatle == \"Ringo Starr\":\n",
        "      print(f\"I love {beatle}!\")\n",
        "    if beatle != \"Ringo Starr\":\n",
        "      print(f\"I hate {beatle}!\")\n",
        "      print(\"\\n\")"
      ],
      "metadata": {
        "colab": {
          "base_uri": "https://localhost:8080/"
        },
        "id": "xHzj71dE07DQ",
        "outputId": "09fbf4c3-a432-4c70-ffb6-9b7e176f24ee"
      },
      "execution_count": 6,
      "outputs": [
        {
          "output_type": "stream",
          "name": "stdout",
          "text": [
            "I hate John Lennon!\n",
            "\n",
            "\n",
            "I hate Paul McCartney!\n",
            "\n",
            "\n",
            "I hate George Harrison!\n",
            "\n",
            "\n",
            "I love Ringo Starr!\n",
            "I hate John Lennon!\n",
            "\n",
            "\n",
            "I hate Paul McCartney!\n",
            "\n",
            "\n",
            "I hate George Harrison!\n",
            "\n",
            "\n",
            "I love Ringo Starr!\n",
            "I hate John Lennon!\n",
            "\n",
            "\n",
            "I hate Paul McCartney!\n",
            "\n",
            "\n",
            "I hate George Harrison!\n",
            "\n",
            "\n",
            "I love Ringo Starr!\n",
            "I hate John Lennon!\n",
            "\n",
            "\n",
            "I hate Paul McCartney!\n",
            "\n",
            "\n",
            "I hate George Harrison!\n",
            "\n",
            "\n",
            "I love Ringo Starr!\n",
            "I hate John Lennon!\n",
            "\n",
            "\n",
            "I hate Paul McCartney!\n",
            "\n",
            "\n",
            "I hate George Harrison!\n",
            "\n",
            "\n",
            "I love Ringo Starr!\n"
          ]
        }
      ]
    },
    {
      "cell_type": "code",
      "source": [
        "# fixed the paragraph problem with a better indentation\n",
        "# we could also work on a better syntax, instead of an if-statement on line 7 we could simply use an else:\n",
        "for n in numbers:\n",
        "  for beatle in beatles:\n",
        "    if beatle == \"Ringo Starr\":\n",
        "      print(f\"I love {beatle}!\")\n",
        "    if beatle != \"Ringo Starr\":\n",
        "      print(f\"I hate {beatle}!\")\n",
        "  print(\"\\n\")"
      ],
      "metadata": {
        "colab": {
          "base_uri": "https://localhost:8080/"
        },
        "id": "38vmCGQHx5Hb",
        "outputId": "b6cf59f3-0f76-48cf-ba49-5fda48dd9823"
      },
      "execution_count": 7,
      "outputs": [
        {
          "output_type": "stream",
          "name": "stdout",
          "text": [
            "I hate John Lennon!\n",
            "I hate Paul McCartney!\n",
            "I hate George Harrison!\n",
            "I love Ringo Starr!\n",
            "\n",
            "\n",
            "I hate John Lennon!\n",
            "I hate Paul McCartney!\n",
            "I hate George Harrison!\n",
            "I love Ringo Starr!\n",
            "\n",
            "\n",
            "I hate John Lennon!\n",
            "I hate Paul McCartney!\n",
            "I hate George Harrison!\n",
            "I love Ringo Starr!\n",
            "\n",
            "\n",
            "I hate John Lennon!\n",
            "I hate Paul McCartney!\n",
            "I hate George Harrison!\n",
            "I love Ringo Starr!\n",
            "\n",
            "\n",
            "I hate John Lennon!\n",
            "I hate Paul McCartney!\n",
            "I hate George Harrison!\n",
            "I love Ringo Starr!\n",
            "\n",
            "\n"
          ]
        }
      ]
    },
    {
      "cell_type": "code",
      "source": [
        "for n in numbers:\n",
        "  for beatle in beatles:\n",
        "    if beatle == \"Ringo Starr\":\n",
        "      print(f\"I love {beatle}!\")\n",
        "    else:\n",
        "      print(f\"I hate {beatle}!\")\n",
        "  print(\"\\n\")"
      ],
      "metadata": {
        "colab": {
          "base_uri": "https://localhost:8080/"
        },
        "id": "h8BZB9SW2FEd",
        "outputId": "62f0ab50-ed72-4cc4-c9fd-b88c13bdeaf9"
      },
      "execution_count": 8,
      "outputs": [
        {
          "output_type": "stream",
          "name": "stdout",
          "text": [
            "I hate John Lennon!\n",
            "I hate Paul McCartney!\n",
            "I hate George Harrison!\n",
            "I love Ringo Starr!\n",
            "\n",
            "\n",
            "I hate John Lennon!\n",
            "I hate Paul McCartney!\n",
            "I hate George Harrison!\n",
            "I love Ringo Starr!\n",
            "\n",
            "\n",
            "I hate John Lennon!\n",
            "I hate Paul McCartney!\n",
            "I hate George Harrison!\n",
            "I love Ringo Starr!\n",
            "\n",
            "\n",
            "I hate John Lennon!\n",
            "I hate Paul McCartney!\n",
            "I hate George Harrison!\n",
            "I love Ringo Starr!\n",
            "\n",
            "\n",
            "I hate John Lennon!\n",
            "I hate Paul McCartney!\n",
            "I hate George Harrison!\n",
            "I love Ringo Starr!\n",
            "\n",
            "\n"
          ]
        }
      ]
    },
    {
      "cell_type": "markdown",
      "source": [
        "## Exercise 3:"
      ],
      "metadata": {
        "id": "cOKlhWRqMQF1"
      }
    },
    {
      "cell_type": "code",
      "source": [
        "# Two things that stand out, first we should not overwrite an assigned variable, instead we assign the newly formed DataFrame to a new variable\n",
        "# also to use the Pandas library, we must import it first !\n",
        "# Also when assigning a DataFrame to a variable, make it clear that this variable contains a DataFrame with a simple \"_df\" at the end\n",
        "top_profitable_films = pd.DataFrame(top_profitable_films)\n",
        "top_profitable_films.head"
      ],
      "metadata": {
        "id": "h6PF4HQfMiex"
      },
      "execution_count": null,
      "outputs": []
    },
    {
      "cell_type": "code",
      "source": [
        "# Something still looks weird\n",
        "# When looking up the syntax of the Pandas head, we seem to be missing some brackets ()\n",
        "import pandas as pd\n",
        "\n",
        "most_prof_films_df = pd.DataFrame(top_profitable_films)\n",
        "most_prof_films_df.head"
      ],
      "metadata": {
        "id": "WbQipHEgoe-m",
        "colab": {
          "base_uri": "https://localhost:8080/"
        },
        "outputId": "50b5f05b-0b74-4d78-e856-5cd3a619397e"
      },
      "execution_count": 15,
      "outputs": [
        {
          "output_type": "execute_result",
          "data": {
            "text/plain": [
              "<bound method NDFrame.head of                            Film  Year Worldwide Gross (in billions)\n",
              "0             Avengers: Endgame  2019                         2.798\n",
              "1                        Avatar  2007                         2.789\n",
              "2                       Titanic  1997                         2.194\n",
              "3  Star Wars: The Force Awakens  2015                         2.073\n",
              "4                Jurassic World  2015                         1.673\n",
              "5                 The Lion King  2019                         1.656\n",
              "6                  The Avengers  2012                         1.519\n",
              "7                     Frozen II  2019                         1.450\n",
              "8                        Frozen  2013                         1.276\n",
              "9          Beauty and the Beast  2017                         1.263>"
            ]
          },
          "metadata": {},
          "execution_count": 15
        }
      ]
    },
    {
      "cell_type": "code",
      "source": [
        "# That fixed it !\n",
        "import pandas as pd\n",
        "\n",
        "most_prof_films_df = pd.DataFrame(top_profitable_films)\n",
        "most_prof_films_df.head()"
      ],
      "metadata": {
        "colab": {
          "base_uri": "https://localhost:8080/",
          "height": 206
        },
        "id": "L5315aph41YB",
        "outputId": "7fef8bb0-106e-4488-b60b-815b9896c39f"
      },
      "execution_count": 16,
      "outputs": [
        {
          "output_type": "execute_result",
          "data": {
            "text/plain": [
              "                           Film  Year Worldwide Gross (in billions)\n",
              "0             Avengers: Endgame  2019                         2.798\n",
              "1                        Avatar  2007                         2.789\n",
              "2                       Titanic  1997                         2.194\n",
              "3  Star Wars: The Force Awakens  2015                         2.073\n",
              "4                Jurassic World  2015                         1.673"
            ],
            "text/html": [
              "\n",
              "  <div id=\"df-b9567b9f-c8bf-4ce0-a432-b9158af47067\">\n",
              "    <div class=\"colab-df-container\">\n",
              "      <div>\n",
              "<style scoped>\n",
              "    .dataframe tbody tr th:only-of-type {\n",
              "        vertical-align: middle;\n",
              "    }\n",
              "\n",
              "    .dataframe tbody tr th {\n",
              "        vertical-align: top;\n",
              "    }\n",
              "\n",
              "    .dataframe thead th {\n",
              "        text-align: right;\n",
              "    }\n",
              "</style>\n",
              "<table border=\"1\" class=\"dataframe\">\n",
              "  <thead>\n",
              "    <tr style=\"text-align: right;\">\n",
              "      <th></th>\n",
              "      <th>Film</th>\n",
              "      <th>Year</th>\n",
              "      <th>Worldwide Gross (in billions)</th>\n",
              "    </tr>\n",
              "  </thead>\n",
              "  <tbody>\n",
              "    <tr>\n",
              "      <th>0</th>\n",
              "      <td>Avengers: Endgame</td>\n",
              "      <td>2019</td>\n",
              "      <td>2.798</td>\n",
              "    </tr>\n",
              "    <tr>\n",
              "      <th>1</th>\n",
              "      <td>Avatar</td>\n",
              "      <td>2007</td>\n",
              "      <td>2.789</td>\n",
              "    </tr>\n",
              "    <tr>\n",
              "      <th>2</th>\n",
              "      <td>Titanic</td>\n",
              "      <td>1997</td>\n",
              "      <td>2.194</td>\n",
              "    </tr>\n",
              "    <tr>\n",
              "      <th>3</th>\n",
              "      <td>Star Wars: The Force Awakens</td>\n",
              "      <td>2015</td>\n",
              "      <td>2.073</td>\n",
              "    </tr>\n",
              "    <tr>\n",
              "      <th>4</th>\n",
              "      <td>Jurassic World</td>\n",
              "      <td>2015</td>\n",
              "      <td>1.673</td>\n",
              "    </tr>\n",
              "  </tbody>\n",
              "</table>\n",
              "</div>\n",
              "      <button class=\"colab-df-convert\" onclick=\"convertToInteractive('df-b9567b9f-c8bf-4ce0-a432-b9158af47067')\"\n",
              "              title=\"Convert this dataframe to an interactive table.\"\n",
              "              style=\"display:none;\">\n",
              "        \n",
              "  <svg xmlns=\"http://www.w3.org/2000/svg\" height=\"24px\"viewBox=\"0 0 24 24\"\n",
              "       width=\"24px\">\n",
              "    <path d=\"M0 0h24v24H0V0z\" fill=\"none\"/>\n",
              "    <path d=\"M18.56 5.44l.94 2.06.94-2.06 2.06-.94-2.06-.94-.94-2.06-.94 2.06-2.06.94zm-11 1L8.5 8.5l.94-2.06 2.06-.94-2.06-.94L8.5 2.5l-.94 2.06-2.06.94zm10 10l.94 2.06.94-2.06 2.06-.94-2.06-.94-.94-2.06-.94 2.06-2.06.94z\"/><path d=\"M17.41 7.96l-1.37-1.37c-.4-.4-.92-.59-1.43-.59-.52 0-1.04.2-1.43.59L10.3 9.45l-7.72 7.72c-.78.78-.78 2.05 0 2.83L4 21.41c.39.39.9.59 1.41.59.51 0 1.02-.2 1.41-.59l7.78-7.78 2.81-2.81c.8-.78.8-2.07 0-2.86zM5.41 20L4 18.59l7.72-7.72 1.47 1.35L5.41 20z\"/>\n",
              "  </svg>\n",
              "      </button>\n",
              "      \n",
              "  <style>\n",
              "    .colab-df-container {\n",
              "      display:flex;\n",
              "      flex-wrap:wrap;\n",
              "      gap: 12px;\n",
              "    }\n",
              "\n",
              "    .colab-df-convert {\n",
              "      background-color: #E8F0FE;\n",
              "      border: none;\n",
              "      border-radius: 50%;\n",
              "      cursor: pointer;\n",
              "      display: none;\n",
              "      fill: #1967D2;\n",
              "      height: 32px;\n",
              "      padding: 0 0 0 0;\n",
              "      width: 32px;\n",
              "    }\n",
              "\n",
              "    .colab-df-convert:hover {\n",
              "      background-color: #E2EBFA;\n",
              "      box-shadow: 0px 1px 2px rgba(60, 64, 67, 0.3), 0px 1px 3px 1px rgba(60, 64, 67, 0.15);\n",
              "      fill: #174EA6;\n",
              "    }\n",
              "\n",
              "    [theme=dark] .colab-df-convert {\n",
              "      background-color: #3B4455;\n",
              "      fill: #D2E3FC;\n",
              "    }\n",
              "\n",
              "    [theme=dark] .colab-df-convert:hover {\n",
              "      background-color: #434B5C;\n",
              "      box-shadow: 0px 1px 3px 1px rgba(0, 0, 0, 0.15);\n",
              "      filter: drop-shadow(0px 1px 2px rgba(0, 0, 0, 0.3));\n",
              "      fill: #FFFFFF;\n",
              "    }\n",
              "  </style>\n",
              "\n",
              "      <script>\n",
              "        const buttonEl =\n",
              "          document.querySelector('#df-b9567b9f-c8bf-4ce0-a432-b9158af47067 button.colab-df-convert');\n",
              "        buttonEl.style.display =\n",
              "          google.colab.kernel.accessAllowed ? 'block' : 'none';\n",
              "\n",
              "        async function convertToInteractive(key) {\n",
              "          const element = document.querySelector('#df-b9567b9f-c8bf-4ce0-a432-b9158af47067');\n",
              "          const dataTable =\n",
              "            await google.colab.kernel.invokeFunction('convertToInteractive',\n",
              "                                                     [key], {});\n",
              "          if (!dataTable) return;\n",
              "\n",
              "          const docLinkHtml = 'Like what you see? Visit the ' +\n",
              "            '<a target=\"_blank\" href=https://colab.research.google.com/notebooks/data_table.ipynb>data table notebook</a>'\n",
              "            + ' to learn more about interactive tables.';\n",
              "          element.innerHTML = '';\n",
              "          dataTable['output_type'] = 'display_data';\n",
              "          await google.colab.output.renderOutput(dataTable, element);\n",
              "          const docLink = document.createElement('div');\n",
              "          docLink.innerHTML = docLinkHtml;\n",
              "          element.appendChild(docLink);\n",
              "        }\n",
              "      </script>\n",
              "    </div>\n",
              "  </div>\n",
              "  "
            ]
          },
          "metadata": {},
          "execution_count": 16
        }
      ]
    },
    {
      "cell_type": "markdown",
      "source": [
        "## Exercise 4:\n",
        "\n",
        "We realised that, in our top_films_df, the year of the movie Avatar is wrong. We want to replace it for the correct one, 2009:"
      ],
      "metadata": {
        "id": "nuQNxD6HOcMP"
      }
    },
    {
      "cell_type": "code",
      "source": [
        "top_films_df[top_films_df[\"Film\"]==\"Avatar\"][\"Year\"] = \"2009\""
      ],
      "metadata": {
        "id": "03M8YhGWRW5f"
      },
      "execution_count": null,
      "outputs": []
    },
    {
      "cell_type": "code",
      "source": [
        "# your code here"
      ],
      "metadata": {
        "id": "EqszsErnolRF"
      },
      "execution_count": null,
      "outputs": []
    },
    {
      "cell_type": "markdown",
      "source": [
        "## Exercise 5:\n",
        "\n",
        "We want to get the average gross profit of all films:"
      ],
      "metadata": {
        "id": "OwCeBaNYS_aM"
      }
    },
    {
      "cell_type": "code",
      "source": [
        "top_films_df[\"Worldwide Gross (in billions)\"].avg()"
      ],
      "metadata": {
        "id": "ChhryXzVZK4G"
      },
      "execution_count": null,
      "outputs": []
    },
    {
      "cell_type": "code",
      "source": [
        "# your code here"
      ],
      "metadata": {
        "id": "-6k9YAj9oqzn"
      },
      "execution_count": null,
      "outputs": []
    }
  ]
}